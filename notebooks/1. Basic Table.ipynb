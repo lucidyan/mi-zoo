{
 "cells": [
  {
   "cell_type": "code",
   "execution_count": 1,
   "id": "adequate-politics",
   "metadata": {},
   "outputs": [],
   "source": [
    "import requests\n",
    "from urllib.parse import urljoin\n",
    "import pandas as pd\n",
    "pd.set_option('display.max_columns', None)  # or 1000\n",
    "pd.set_option('display.max_rows', None)  # or 1000\n",
    "pd.set_option('display.max_colwidth', None)  # or 199\n",
    "\n",
    "import os\n",
    "import subprocess\n",
    "import zipfile\n",
    "import json\n",
    "from pandas_profiling import ProfileReport\n",
    "from collections import defaultdict, Counter\n",
    "import unicodedata\n",
    "from googletrans import Translator\n",
    "from langdetect import detect\n",
    "import tqdm\n",
    "import time\n",
    "from urllib.parse import urlsplit, urlunsplit\n",
    "import imghdr\n",
    "import urllib\n",
    "from html.parser import HTMLParser\n",
    "from PIL import Image"
   ]
  },
  {
   "cell_type": "code",
   "execution_count": 2,
   "id": "framed-crest",
   "metadata": {},
   "outputs": [],
   "source": [
    "def clean_string(s):\n",
    "    return HTMLParser().unescape(\n",
    "        unicodedata.normalize('NFKD', s)\n",
    "            .replace('(', ' (')\n",
    "            .replace(')', ') ')\n",
    "            .replace('（', ' (')\n",
    "            .replace('）', ') ')\n",
    "            .replace('—', ' ')\n",
    "            .replace('°', ' ')\n",
    "            .replace('  ', ' ')\n",
    "            .replace('   ', ' ')                                          \n",
    "            .strip()\n",
    "    )\n",
    "\n",
    "def is_english(s):\n",
    "    try:\n",
    "        s.encode(encoding='utf-8').decode('ascii')\n",
    "    except UnicodeDecodeError:\n",
    "        return False\n",
    "    else:\n",
    "        return True\n",
    "    \n",
    "def remove_query_params_and_fragment(url):\n",
    "    return urlunsplit(urlsplit(url)._replace(query=\"\", fragment=\"\"))\n",
    "\n",
    "def reverse_dict(mydict):\n",
    "    reversed_dict = defaultdict(list)\n",
    "    for key, value in mydict.items():\n",
    "        reversed_dict[value].append(key)\n",
    "        \n",
    "    return reversed_dict\n",
    "    \n",
    "translator = Translator(service_urls=[\n",
    "  'translate.google.com',\n",
    "])"
   ]
  },
  {
   "cell_type": "code",
   "execution_count": 3,
   "id": "rotary-packing",
   "metadata": {},
   "outputs": [],
   "source": [
    "VEVS_BASE_URL = 'https://ru.kapiba.ru/mihome/files/old/'\n",
    "VEVS_PASSWORD = '7549845563'\n",
    "\n",
    "ASSETS_PATH = '../assets'\n",
    "ASSETS_ICONS_RAW_PATH = os.path.join(ASSETS_PATH, 'icons', 'raw')\n",
    "ASSETS_ICONS_PROCESSED_PATH = os.path.join(ASSETS_PATH, 'icons', 'processed')\n",
    "\n",
    "DATA_PATH_ROOT = '../data'\n",
    "DATA_PATH_RAW = os.path.join(DATA_PATH_ROOT, 'raw')\n",
    "DATA_PATH_PROCESSED = os.path.join(DATA_PATH_ROOT, 'processed')\n",
    "\n",
    "FILE_NAME_RAW_DEVICES = 'plugin_config_all'\n",
    "FILE_PATH_RAW_DEVICES = os.path.join(DATA_PATH_RAW, FILE_NAME_RAW_DEVICES)\n",
    "FILENAME_RAW_CATEGORIES = 'recommend_deivce_name.json'\n",
    "FILE_PATH_RAW_CATEGORIES = os.path.join(DATA_PATH_RAW, FILENAME_RAW_CATEGORIES)\n",
    "\n",
    "FILE_NAME_PROCESSED_DEVICES = 'devices.csv'\n",
    "FILE_PATH_PROCESSED_DEVICES = os.path.join(DATA_PATH_PROCESSED, FILE_NAME_PROCESSED_DEVICES)\n",
    "FILE_NAME_PROCESSED_CATEGORIES = 'categories.csv'\n",
    "FILE_PATH_PROCESSED_CATEGORIES = os.path.join(DATA_PATH_PROCESSED, FILE_NAME_PROCESSED_CATEGORIES)\n",
    "\n",
    "FILE_NAME_PROCESSED_SUBCATE_CATE_DICT = 'subcate_cate.json'\n",
    "FILE_PATH_PROCESSED_SUBCATE_CATE_DICT = os.path.join(DATA_PATH_PROCESSED, FILE_NAME_PROCESSED_SUBCATE_CATE_DICT)\n",
    "\n",
    "FILE_NAME_PROCESSED_NAME_TRANSLATIONS = 'name_translations.json'\n",
    "FILE_PATH_PROCESSED_NAME_TRANSLATIONS = os.path.join(DATA_PATH_PROCESSED, FILE_NAME_PROCESSED_NAME_TRANSLATIONS)\n",
    "FILE_NAME_PROCESSED_DESC_TRANSLATIONS = 'desc_translations.json'\n",
    "FILE_PATH_PROCESSED_DESC_TRANSLATIONS = os.path.join(DATA_PATH_PROCESSED, FILE_NAME_PROCESSED_DESC_TRANSLATIONS)\n",
    "\n",
    "ARCHIVE_PATH_DEVICES = 'assets/device_config/plugin_config_all'\n",
    "ARCHIVE_PATH_CATEGORIES = 'assets/cardControl/recommend_deivce_name.json'"
   ]
  },
  {
   "cell_type": "markdown",
   "id": "leading-alabama",
   "metadata": {},
   "source": [
    "# Extract Data"
   ]
  },
  {
   "cell_type": "markdown",
   "id": "numeric-sheep",
   "metadata": {},
   "source": [
    "##### Download MiHome APK"
   ]
  },
  {
   "cell_type": "code",
   "execution_count": 4,
   "id": "overall-break",
   "metadata": {},
   "outputs": [],
   "source": [
    "s = requests.Session()\n",
    "s.auth = ('', VEVS_PASSWORD)\n",
    "page = s.get(VEVS_BASE_URL)\n",
    "\n",
    "# Select latest file\n",
    "df = pd.read_html(page.content)[0]\n",
    "vevs_package_filename = (\n",
    "    df.loc[df['Type'] == 'application/vnd.android.package-archive']\n",
    "    .tail(1)['Name']\n",
    "    .tolist()[0]\n",
    ")\n",
    "\n",
    "s = f'wget --user \"\" --password {VEVS_PASSWORD} --read-timeout=5 --tries=0 --no-clobber -P {DATA_PATH_RAW} {urljoin(VEVS_BASE_URL, vevs_package_filename)}'\n",
    "output = subprocess.check_output(s, shell=True)"
   ]
  },
  {
   "cell_type": "markdown",
   "id": "entire-franchise",
   "metadata": {},
   "source": [
    "##### Extract Data from APK"
   ]
  },
  {
   "cell_type": "code",
   "execution_count": 5,
   "id": "technical-oasis",
   "metadata": {},
   "outputs": [],
   "source": [
    "# # You can also read directly from the APK\n",
    "# archive = zipfile.ZipFile(vevs_package_filename, 'r')\n",
    "# archive.read(ARCHIVE_PATH_DEVICES)\n",
    "\n",
    "with zipfile.ZipFile(os.path.join(DATA_PATH_RAW, vevs_package_filename), 'r') as z:\n",
    "    with open(os.path.join(FILE_PATH_RAW_DEVICES), 'wb') as f:\n",
    "        f.write(z.read(ARCHIVE_PATH_DEVICES))\n",
    "        \n",
    "    with open(os.path.join(FILE_PATH_RAW_CATEGORIES), 'wb') as f:\n",
    "        f.write(z.read(ARCHIVE_PATH_CATEGORIES))"
   ]
  },
  {
   "cell_type": "markdown",
   "id": "intended-affect",
   "metadata": {},
   "source": [
    "##### Load Devices data"
   ]
  },
  {
   "cell_type": "code",
   "execution_count": 6,
   "id": "western-vampire",
   "metadata": {
    "scrolled": true
   },
   "outputs": [
    {
     "name": "stderr",
     "output_type": "stream",
     "text": [
      "<ipython-input-2-48e55e165612>:2: DeprecationWarning: The unescape method is deprecated and will be removed in 3.5, use html.unescape() instead.\n",
      "  return HTMLParser().unescape(\n"
     ]
    }
   ],
   "source": [
    "with open(FILE_PATH_RAW_DEVICES, 'r') as f:\n",
    "    devices_json = json.load(f)\n",
    "devices_pd = pd.DataFrame.from_dict(devices_json['result']['devices']['list'])\n",
    "devices_pd['name'] = devices_pd['name'].apply(clean_string)\n",
    "devices_pd['desc'] = devices_pd['desc'].apply(clean_string)\n",
    "devices_pd['model'] = devices_pd['model'].apply(clean_string)\n",
    "devices_pd = devices_pd.rename(columns={\"desc\": \"desc_cn\"})\n",
    "# devices_pd.head()"
   ]
  },
  {
   "cell_type": "markdown",
   "id": "boring-commons",
   "metadata": {},
   "source": [
    "# Translate"
   ]
  },
  {
   "cell_type": "markdown",
   "id": "initial-premiere",
   "metadata": {},
   "source": [
    "##### Devices names"
   ]
  },
  {
   "cell_type": "code",
   "execution_count": 7,
   "id": "adjustable-equilibrium",
   "metadata": {},
   "outputs": [],
   "source": [
    "with open(FILE_PATH_PROCESSED_NAME_TRANSLATIONS, 'r') as f:\n",
    "    devices_name_translation_dict = json.load(f)"
   ]
  },
  {
   "cell_type": "code",
   "execution_count": 8,
   "id": "colored-narrow",
   "metadata": {},
   "outputs": [
    {
     "data": {
      "application/vnd.jupyter.widget-view+json": {
       "model_id": "5c8e859625974273b72a6804cfee89d9",
       "version_major": 2,
       "version_minor": 0
      },
      "text/plain": [
       "  0%|          | 0/3033 [00:00<?, ?it/s]"
      ]
     },
     "metadata": {},
     "output_type": "display_data"
    }
   ],
   "source": [
    "devices_name_cn_list = []\n",
    "devices_name_en_list = []\n",
    "\n",
    "for index, row in tqdm.notebook.tqdm(devices_pd.iterrows(), total=devices_pd.shape[0]):\n",
    "    if row['name'] and not is_english(row['name']):\n",
    "        name_cn = row['name']\n",
    "        \n",
    "        if name_cn in devices_name_translation_dict:\n",
    "            name_en = devices_name_translation_dict[name_cn]\n",
    "        else:\n",
    "            name_en = translator.translate(name_cn, src='zh-cn', dest='en').text\n",
    "            devices_name_translation_dict[name_cn] = name_en\n",
    "            time.sleep(2)\n",
    "    else:\n",
    "        name_cn = ''\n",
    "        name_en = row['name']\n",
    "\n",
    "    devices_name_cn_list.append(name_cn)\n",
    "    devices_name_en_list.append(name_en)\n",
    "    \n",
    "devices_pd['name_cn'] = devices_name_cn_list\n",
    "devices_pd['name_en'] = devices_name_en_list"
   ]
  },
  {
   "cell_type": "code",
   "execution_count": 9,
   "id": "impossible-sheffield",
   "metadata": {},
   "outputs": [],
   "source": [
    "# for name_cn, name_en in zip(devices_name_cn_list, devices_name_en_list):\n",
    "#     if name_cn and name_cn not in devices_name_translation_dict:\n",
    "#         devices_name_translation_dict[name_cn] = name_en"
   ]
  },
  {
   "cell_type": "code",
   "execution_count": 10,
   "id": "grand-museum",
   "metadata": {},
   "outputs": [],
   "source": [
    "with open(FILE_PATH_PROCESSED_NAME_TRANSLATIONS, 'w') as f:\n",
    "    json.dump(devices_name_translation_dict, f)"
   ]
  },
  {
   "cell_type": "markdown",
   "id": "civic-powell",
   "metadata": {},
   "source": [
    "##### Devices descriptions"
   ]
  },
  {
   "cell_type": "code",
   "execution_count": 11,
   "id": "gorgeous-mumbai",
   "metadata": {},
   "outputs": [],
   "source": [
    "with open(FILE_PATH_PROCESSED_DESC_TRANSLATIONS, 'r') as f:\n",
    "    devices_desc_translation_dict = json.load(f)"
   ]
  },
  {
   "cell_type": "code",
   "execution_count": 12,
   "id": "conservative-entrance",
   "metadata": {},
   "outputs": [
    {
     "data": {
      "application/vnd.jupyter.widget-view+json": {
       "model_id": "6b8f8211fd46413683a15148a0559f84",
       "version_major": 2,
       "version_minor": 0
      },
      "text/plain": [
       "  0%|          | 0/3033 [00:00<?, ?it/s]"
      ]
     },
     "metadata": {},
     "output_type": "display_data"
    }
   ],
   "source": [
    "devices_desc_en_list = []\n",
    "\n",
    "for index, row in tqdm.notebook.tqdm(devices_pd.iterrows(), total=devices_pd.shape[0]):\n",
    "    desc_en = ''\n",
    "    desc_cn = row['desc_cn']\n",
    "    \n",
    "    if desc_cn: \n",
    "        if not is_english(desc_cn):\n",
    "            if desc_cn in devices_desc_translation_dict:\n",
    "                desc_en = devices_desc_translation_dict[desc_cn]\n",
    "            else:\n",
    "                desc_en = translator.translate(desc_cn, src='zh-cn', dest='en').text\n",
    "                devices_desc_translation_dict[desc_cn] = desc_en\n",
    "                time.sleep(2)\n",
    "        else:\n",
    "            desc_en = row['desc_cn']\n",
    "\n",
    "    devices_desc_en_list.append(desc_en)\n",
    "    \n",
    "devices_pd['desc_en'] = devices_desc_en_list"
   ]
  },
  {
   "cell_type": "code",
   "execution_count": 13,
   "id": "social-veteran",
   "metadata": {},
   "outputs": [],
   "source": [
    "# devices_desc_translation_dict = {}\n",
    "\n",
    "# for desc_cn, desc_en in zip(list(devices_pd['desc_cn'].values), list(devices_pd['desc_en'].values)):\n",
    "#     if desc_cn and desc_cn not in devices_desc_translation_dict:\n",
    "#         devices_desc_translation_dict[desc_cn] = desc_en"
   ]
  },
  {
   "cell_type": "code",
   "execution_count": 14,
   "id": "classical-garage",
   "metadata": {},
   "outputs": [],
   "source": [
    "with open(FILE_PATH_PROCESSED_DESC_TRANSLATIONS, 'w') as f:\n",
    "    json.dump(devices_desc_translation_dict, f)"
   ]
  },
  {
   "cell_type": "markdown",
   "id": "thermal-jacksonville",
   "metadata": {},
   "source": [
    "# Create Metacategories"
   ]
  },
  {
   "cell_type": "markdown",
   "id": "protected-wonder",
   "metadata": {},
   "source": [
    "**Original dependencies hell looks like that:**\n",
    "- subcategory_id (one) -> microcategory_name (many)\n",
    "- microcategory_name (one) -> devices (many) -> subcategory_id (many)\n",
    "- cate_name (one) -> subcategory_id (many)\n",
    "\n",
    "**Our Metasubcategory transformation:**\n",
    "\n",
    "If device not exists in:\n",
    "- microcategory_name (one) -> devices (many)\n",
    "\n",
    "Then:\n",
    "- microcategory_name (one) -> subcategory_id (one, most popular)\n",
    "- subcategory_id (one) -> microcategory_name (one, most popular)"
   ]
  },
  {
   "cell_type": "code",
   "execution_count": 15,
   "id": "lasting-jonathan",
   "metadata": {},
   "outputs": [
    {
     "name": "stderr",
     "output_type": "stream",
     "text": [
      "<ipython-input-2-48e55e165612>:2: DeprecationWarning: The unescape method is deprecated and will be removed in 3.5, use html.unescape() instead.\n",
      "  return HTMLParser().unescape(\n"
     ]
    }
   ],
   "source": [
    "with open(FILE_PATH_RAW_CATEGORIES, 'r') as f:\n",
    "    category_name_json = json.load(f)\n",
    "category_name_pd = pd.DataFrame.from_dict(category_name_json['data'])\n",
    "category_name_pd['models'] = category_name_pd['product_type'].apply(lambda x: list(x['model']))\n",
    "category_name_pd['name_en'] = category_name_pd['product_type'].apply(lambda x: x['defaultName']['en'] if 'en' in x['defaultName'] else translator.translate(x['defaultName'].get('zh_CN'), src='zh-cn', dest='en').text)\n",
    "category_name_pd['name_en'] = category_name_pd['name_en'].apply(lambda x: clean_string(x).capitalize())\n",
    "category_name_pd.to_csv(FILE_PATH_PROCESSED_CATEGORIES)\n",
    "# category_name_pd.head()"
   ]
  },
  {
   "cell_type": "code",
   "execution_count": 16,
   "id": "elegant-russell",
   "metadata": {},
   "outputs": [],
   "source": [
    "model_subcategory_id_dict = pd.Series(devices_pd.subcategory_id.values, index=devices_pd.model).to_dict()\n",
    "model_cate_name_dict = pd.Series(devices_pd.cate_name.values, index=devices_pd.model).to_dict()"
   ]
  },
  {
   "cell_type": "code",
   "execution_count": 17,
   "id": "fuzzy-leave",
   "metadata": {},
   "outputs": [],
   "source": [
    "model_microcategory_name_dict = {}\n",
    "subcategory_id_microcategory_names_dict = defaultdict(list)\n",
    "subcategory_id_cate_names_dict = defaultdict(list)\n",
    "# a = defaultdict(list)\n",
    "\n",
    "for index, row in category_name_pd.iterrows():\n",
    "    microcategory_name = row['name_en']\n",
    "    \n",
    "    subcategories_ids = []\n",
    "    cate_names = []\n",
    "    microcategories_names = []\n",
    "    for m in row['models']:\n",
    "        if m in model_subcategory_id_dict:\n",
    "            subcategories_ids.append(model_subcategory_id_dict[m])\n",
    "            \n",
    "            if model_cate_name_dict[m] != 'Other':\n",
    "                cate_names.append(model_cate_name_dict[m])\n",
    "\n",
    "            model_microcategory_name_dict[m] = microcategory_name\n",
    "            microcategories_names.append(microcategory_name)\n",
    "            \n",
    "    subcategory_id_microcategory_names_dict[Counter(subcategories_ids).most_common()[0][0]].extend(microcategories_names)\n",
    "#     a[Counter(microcategories_names).most_common()[0][0]].extend(cate_names)\n",
    "    subcategory_id_cate_names_dict[Counter(subcategories_ids).most_common()[0][0]].extend(cate_names)\n",
    "    \n",
    "subcategory_id_microcategory_name_dict = {}\n",
    "for k,v in subcategory_id_microcategory_names_dict.items():\n",
    "    subcategory_id_microcategory_name_dict[k] = Counter(v).most_common()[0][0]\n",
    "    \n",
    "subcategory_id_cate_name_dict = {}\n",
    "for k,v in subcategory_id_cate_names_dict.items():\n",
    "    if len(v):\n",
    "        subcategory_id_cate_name_dict[k] = Counter(v).most_common()[0][0]\n",
    "        \n",
    "# b = {}\n",
    "# for k,v in a.items():\n",
    "#     if len(v):\n",
    "#         b[k] = Counter(v).most_common()[0][0]"
   ]
  },
  {
   "cell_type": "code",
   "execution_count": 18,
   "id": "novel-consideration",
   "metadata": {},
   "outputs": [
    {
     "name": "stdout",
     "output_type": "stream",
     "text": [
      "0.008242664029014177 0.23112429937355752 0.09990108803165183\n"
     ]
    }
   ],
   "source": [
    "def get_metasubcategory_name(s):\n",
    "    if s['model'] in model_microcategory_name_dict:\n",
    "        r = model_microcategory_name_dict[s['model']]\n",
    "    elif s['subcategory_id'] in subcategory_id_microcategory_name_dict:\n",
    "        r = subcategory_id_microcategory_name_dict[s['subcategory_id']]\n",
    "    else:\n",
    "        r = 'Other'\n",
    "    return r\n",
    "\n",
    "def get_metacategory_name(s):\n",
    "    metacategory_name = s['cate_name']\n",
    "    subcategory_id = s['subcategory_id']\n",
    "    if (subcategory_id in subcategory_id_cate_name_dict):\n",
    "#         if subcategory_id_cate_name_dict[subcategory_id] != s['cate_name']:\n",
    "#             print(s['name_en'], '|||', s['metasubcategory_name'], '|||', subcategory_id_cate_name_dict[subcategory_id], '-', s['cate_name'])\n",
    "            \n",
    "        metacategory_name = subcategory_id_cate_name_dict[subcategory_id]\n",
    "    return metacategory_name\n",
    "\n",
    "devices_pd['metasubcategory_name'] = devices_pd.apply(get_metasubcategory_name, axis=1)\n",
    "devices_pd['metacategory_name'] = devices_pd.apply(get_metacategory_name, axis=1)\n",
    "print(\n",
    "    devices_pd['metasubcategory_name'].value_counts(True)['Other'],\n",
    "    devices_pd['cate_name'].value_counts(True)['Other'],\n",
    "    devices_pd['metacategory_name'].value_counts(True)['Other']\n",
    ")"
   ]
  },
  {
   "cell_type": "code",
   "execution_count": 19,
   "id": "bright-documentary",
   "metadata": {},
   "outputs": [],
   "source": [
    "# devices_pd[['name_en', 'cate_name', 'metacategory_name', 'metasubcategory_name', 'subcategory_id']][devices_pd['cate_name'] == 'Other']"
   ]
  },
  {
   "cell_type": "code",
   "execution_count": 20,
   "id": "optimum-recorder",
   "metadata": {},
   "outputs": [],
   "source": [
    "# Wrong matching name ! LEGACY\n",
    "\n",
    "# # Model - Subcategory ID\n",
    "# model_subcategory_id_dict = pd.Series(devices_pd.subcategory_id.values, index=devices_pd.model).to_dict()\n",
    "\n",
    "# # Microcategory Name - Subcategory ID\n",
    "# microcategory_name_subcategory_ids_dict = defaultdict(list)\n",
    "\n",
    "# for index, row in category_name_pd.iterrows():\n",
    "#     for m in row['models']:\n",
    "#         if m in model_subcategory_id_dict:\n",
    "#             microcategory_name_subcategory_ids_dict[row['name_en']].append(model_subcategory_id_dict[m])\n",
    "\n",
    "# microcategory_name_subcategory_id_dict = {}    \n",
    "# for subcategory_name, subcategory_ids in subcategory_name_subcategory_ids_dict.items():\n",
    "#     microcategory_name_subcategory_id_dict[subcategory_name] = Counter(subcategory_ids).most_common()[0][0]\n",
    "    \n",
    "# # Subcategory ID - Subcategory Name\n",
    "# subcategory_id_subcategory_name_dict = reverse_dict(subcategory_name_subcategory_id_dict)\n",
    "    \n",
    "# # Subcategory Name - Category Name\n",
    "# devices_pd['subcategory_name'] = devices_pd['subcategory_id'].apply(lambda x: subcategory_id_subcategory_name_dict.get(x, 'Unknown'))\n",
    "# subcate_cate_dict = (\n",
    "#     devices_pd[devices_pd['subcategory_name'] != 'Unknown']\n",
    "#         .groupby('subcategory_name').apply(lambda x: Counter(x['cate_name']).most_common()[0][0]).to_dict()\n",
    "# )"
   ]
  },
  {
   "cell_type": "markdown",
   "id": "defined-buffalo",
   "metadata": {},
   "source": [
    "# Save enriched devices data"
   ]
  },
  {
   "cell_type": "code",
   "execution_count": 21,
   "id": "micro-shaft",
   "metadata": {},
   "outputs": [],
   "source": [
    "devices_pd.to_csv(FILE_PATH_PROCESSED_DEVICES)"
   ]
  },
  {
   "cell_type": "markdown",
   "id": "located-teddy",
   "metadata": {},
   "source": [
    "# Download icons"
   ]
  },
  {
   "cell_type": "code",
   "execution_count": 22,
   "id": "equal-challenge",
   "metadata": {},
   "outputs": [
    {
     "data": {
      "application/vnd.jupyter.widget-view+json": {
       "model_id": "75316c27286f422abd3e6f598e9db6f4",
       "version_major": 2,
       "version_minor": 0
      },
      "text/plain": [
       "  0%|          | 0/3033 [00:00<?, ?it/s]"
      ]
     },
     "metadata": {},
     "output_type": "display_data"
    }
   ],
   "source": [
    "for index, row in tqdm.notebook.tqdm(devices_pd.iterrows(), total=devices_pd.shape[0]):\n",
    "    icon_url = row['icon_real']\n",
    "    if not icon_url:\n",
    "        continue\n",
    "    \n",
    "    # Magic string for extracting extension from url instead of slow MIME Headers\n",
    "    # But extensions is wrong lol\n",
    "    img_ext = os.path.splitext(urllib.parse.urlparse(icon_url).path)[1]\n",
    "    img_path = f'{os.path.join(ASSETS_ICONS_RAW_PATH, row[\"model\"])}{img_ext}'\n",
    "    \n",
    "#     # Show real extensions\n",
    "#     if os.path.isfile(img_path):\n",
    "#         print(imghdr.what(img_path))\n",
    "    \n",
    "    if (not os.path.isfile(img_path) or not imghdr.what(img_path)) and row['icon_real']:\n",
    "        try:\n",
    "            s = f'wget --tries=10 -O {img_path} \"{row[\"icon_real\"]}\"'\n",
    "            output = subprocess.check_output(s, shell=True)\n",
    "        except Exception as e:\n",
    "            print(e)"
   ]
  },
  {
   "cell_type": "code",
   "execution_count": 23,
   "id": "identified-manner",
   "metadata": {},
   "outputs": [],
   "source": [
    "# for img_name in os.listdir(ASSETS_ICONS_RAW_PATH):\n",
    "#     try:\n",
    "#         dest_img_path = os.path.join(ASSETS_ICONS_PROCESSED_PATH, img_name)\n",
    "#         src_img_path = os.path.join(ASSETS_ICONS_RAW_PATH, img_name)\n",
    "#         if (not os.path.isfile(dest_img_path) or not imghdr.what(dest_img_path)):\n",
    "#             im = Image.open(src_img_path)\n",
    "#             im.thumbnail([128, 128], Image.ANTIALIAS)\n",
    "#             im.save(os.path.join(dest_img_path), \"PNG\")\n",
    "#     except IOError:\n",
    "#         print(\"cannot create thumbnail for '%s'\" % item)"
   ]
  },
  {
   "cell_type": "markdown",
   "id": "deluxe-phone",
   "metadata": {},
   "source": [
    "# Create Table"
   ]
  },
  {
   "cell_type": "code",
   "execution_count": 24,
   "id": "monetary-review",
   "metadata": {},
   "outputs": [],
   "source": [
    "df = (\n",
    "    devices_pd[['icon_real', 'name_en', 'desc_en', 'metacategory_name', 'metasubcategory_name', 'model']]\n",
    "        .sort_values(['metacategory_name', 'metasubcategory_name', 'name_en', 'model'])\n",
    "        .reset_index()\n",
    "        .groupby(['metacategory_name', 'metasubcategory_name'])\n",
    "        .apply(lambda x: pd.concat([x['icon_real'], x['name_en'], x['desc_en'], x['model']], axis=1))\n",
    "        .rename({'icon_real': 'Pic', 'name_en': 'Name', 'desc_en': 'Description', 'model': 'Model'}, axis=1)\n",
    "#         .rename({'metacategory_name': 'Category', 'metasubcategory_name': 'Subcategory'}, axis=0)\n",
    ")\n",
    "\n",
    "# df['Pic'] = df['Pic'].apply(lambda x: f'<img src=\"{x}\">')\n",
    "# img_pre = '/home/home/Projects/mizoo/assets/icons/raw/'\n",
    "img_pre = './assets/icons/raw/'\n",
    "df['Pic'] = df.apply(\n",
    "    lambda x: f'<img src=\"{os.path.join(img_pre, x[\"Model\"] + \".png\")}\">', \n",
    "    axis=1\n",
    ")\n",
    "\n",
    "# df.head()"
   ]
  },
  {
   "cell_type": "code",
   "execution_count": 25,
   "id": "rural-bottom",
   "metadata": {},
   "outputs": [],
   "source": [
    "with open('../README.md', 'w') as f:\n",
    "    print('# Mi-zoo\\n', file=f)\n",
    "    print('<sup><sub>Complete list of Xiaomi Mi Smart Home Ecosystem devices with descriptions and codes.</sub></sup>\\n---', file=f)\n",
    "    for category, df_sub in df.groupby(level=0):\n",
    "        print(f'---\\n# {category}', file=f)\n",
    "        for subcategory, df_dev in df_sub.groupby(level=1):\n",
    "            print(f'## {subcategory}', file=f)\n",
    "            print(\n",
    "                df_dev[['Pic', 'Name', 'Model', 'Description']]\n",
    "                .reset_index(level=['metasubcategory_name', 'metacategory_name'], drop=True)\n",
    "                .to_html(escape=False)\n",
    "                .replace('\\\\n', '<br />')\n",
    "#                 .replace('<th>Pic</th>', '<th style=\"width:30%\">Pic</th>')\n",
    "#                 .replace('<th>Name</th>', '<th style=\"width:20%\">Name</th>')\n",
    "#                 .replace('<th>Model</th>', '<th style=\"width:10%\">Model</th>')\n",
    "#                 .replace('<th>Description</th>', '<th style=\"width:40%\">Description</th>')\n",
    "                ,file=f\n",
    "            )\n",
    "            print('', file=f)"
   ]
  }
 ],
 "metadata": {
  "kernelspec": {
   "display_name": "Python 3",
   "language": "python",
   "name": "python3"
  },
  "language_info": {
   "codemirror_mode": {
    "name": "ipython",
    "version": 3
   },
   "file_extension": ".py",
   "mimetype": "text/x-python",
   "name": "python",
   "nbconvert_exporter": "python",
   "pygments_lexer": "ipython3",
   "version": "3.8.5"
  }
 },
 "nbformat": 4,
 "nbformat_minor": 5
}
